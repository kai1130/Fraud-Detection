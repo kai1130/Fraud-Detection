{
 "cells": [
  {
   "cell_type": "markdown",
   "metadata": {},
   "source": [
    "### Training a 3 layer bidirectional LSTM on twitter dataset with 1.5 million tweets"
   ]
  },
  {
   "cell_type": "markdown",
   "metadata": {},
   "source": [
    "#### Test set error rate, training time, and epochs.\n",
    "\n",
    "- Error rate: 14.35%\n",
    "- Training time: 207 minutes\n",
    "- Epochs: 5 epochs\n",
    "\n",
    "#### Learning schedule\n",
    "- 1.531 initial learning rate\n",
    "- Divided by 1.4 every 2 epochs\n",
    "- Quadruple batch size in epoch 4\n",
    "\n",
    "#### Hyperparameters\n",
    "- Initial batch size 125\n",
    "- Quadrupled batch size to 500 in epoch 4\n",
    "- Hidden layer size 421"
   ]
  },
  {
   "cell_type": "markdown",
   "metadata": {},
   "source": [
    "# ----------------------------------------------------------------------------------"
   ]
  },
  {
   "cell_type": "code",
   "execution_count": 21,
   "metadata": {},
   "outputs": [],
   "source": [
    "import torch\n",
    "import torch.nn as nn\n",
    "import torch.optim as optim\n",
    "import random\n",
    "import utils\n",
    "import time"
   ]
  },
  {
   "cell_type": "code",
   "execution_count": 22,
   "metadata": {},
   "outputs": [
    {
     "name": "stdout",
     "output_type": "stream",
     "text": [
      "cuda\n"
     ]
    }
   ],
   "source": [
    "device= torch.device(\"cuda\")\n",
    "print(device)"
   ]
  },
  {
   "cell_type": "code",
   "execution_count": 23,
   "metadata": {},
   "outputs": [
    {
     "name": "stdout",
     "output_type": "stream",
     "text": [
      "num review in train =  1428612\n",
      "num review in test =  150000\n"
     ]
    }
   ],
   "source": [
    "train_data = torch.load('../data/twitter/train_data.pt')\n",
    "train_label = torch.load('../data/twitter/train_label.pt')\n",
    "test_data = torch.load('../data/twitter/test_data.pt')\n",
    "test_label = torch.load('../data/twitter/test_label.pt')\n",
    "\n",
    "print('num review in train = ', len(train_data))\n",
    "print('num review in test = ', len(test_data))"
   ]
  },
  {
   "cell_type": "code",
   "execution_count": 24,
   "metadata": {},
   "outputs": [],
   "source": [
    "class rec_neural_net(nn.Module):\n",
    "    \n",
    "    def __init__(self, vocab_size, hidden_size, output_size, num_layers):\n",
    "        super().__init__()\n",
    "        \n",
    "        self.emb_layer = nn.Embedding(vocab_size, hidden_size)\n",
    "        self.rec_layer = nn.LSTM(hidden_size, hidden_size, num_layers=num_layers, bidirectional=True)\n",
    "        self.lin_layer = nn.Linear(hidden_size*2, output_size)\n",
    "        \n",
    "        \n",
    "    def forward(self, input_seq):\n",
    "        \n",
    "        input_seq_emb = self.emb_layer( input_seq )\n",
    "    \n",
    "        output_seq , (h_last, c_last) = self.rec_layer( input_seq_emb )\n",
    "        \n",
    "        h_direc_1  = h_last[2,:,:]\n",
    "        h_direc_2  = h_last[3,:,:]\n",
    "        h_direc_12 = torch.cat( (h_direc_1, h_direc_2)  , dim=1) \n",
    "        \n",
    "        scores = self.lin_layer( h_direc_12 )\n",
    "            \n",
    "        return scores"
   ]
  },
  {
   "cell_type": "code",
   "execution_count": 25,
   "metadata": {},
   "outputs": [
    {
     "name": "stdout",
     "output_type": "stream",
     "text": [
      "rec_neural_net(\n",
      "  (emb_layer): Embedding(30002, 421)\n",
      "  (rec_layer): LSTM(421, 421, num_layers=3, bidirectional=True)\n",
      "  (lin_layer): Linear(in_features=842, out_features=2, bias=True)\n",
      ")\n",
      "There are 23996160 (24.00 million) parameters in this neural network\n"
     ]
    }
   ],
   "source": [
    "vocab_size = 30002\n",
    "num_layers = 3\n",
    "hid_size= 421\n",
    "out_size= 2\n",
    "\n",
    "net=rec_neural_net(vocab_size,hid_size, out_size, num_layers)\n",
    "net = net.to(device)\n",
    "\n",
    "print(net)\n",
    "utils.display_num_param(net)"
   ]
  },
  {
   "cell_type": "code",
   "execution_count": 26,
   "metadata": {},
   "outputs": [],
   "source": [
    "criterion = nn.CrossEntropyLoss()\n",
    "my_lr = 1.531\n",
    "bs = 125"
   ]
  },
  {
   "cell_type": "code",
   "execution_count": 27,
   "metadata": {},
   "outputs": [],
   "source": [
    "def eval_on_test_set():\n",
    "\n",
    "    running_error=0\n",
    "    num_batches=0\n",
    "\n",
    "    with torch.no_grad():\n",
    "\n",
    "        for i in range(0,150000-bs,bs):\n",
    "        \n",
    "            # extract the minibatch\n",
    "            indices = torch.arange(i,i+bs)             \n",
    "            minibatch_data, minibatch_label =  utils.make_minibatch(indices, test_data, test_label) \n",
    "                \n",
    "            # send to GPU    \n",
    "            minibatch_data = minibatch_data.to(device)\n",
    "            minibatch_label = minibatch_label.to(device) \n",
    "            \n",
    "            # feed it to the network\n",
    "            scores=net(minibatch_data) \n",
    "\n",
    "            # compute the error made on this batch\n",
    "            error = utils.get_error( scores , minibatch_label)\n",
    "\n",
    "            # add it to the running error\n",
    "            running_error += error.item()\n",
    "\n",
    "            num_batches+=1\n",
    "\n",
    "    # compute error rate on the full test set\n",
    "    total_error = running_error/num_batches\n",
    "\n",
    "    print( 'error rate on test set =', total_error*100 ,'percent')"
   ]
  },
  {
   "cell_type": "code",
   "execution_count": 28,
   "metadata": {},
   "outputs": [
    {
     "name": "stdout",
     "output_type": "stream",
     "text": [
      "epoch = 0 .35 | time = 14.369831 | lr = 1.531 | loss = 0.47562 | error = 22.422791 %\n",
      "epoch = 0 .70 | time = 28.754237 | lr = 1.531 | loss = 0.43017 | error = 19.845116 %\n",
      "epoch = 1 .00 | time = 41.085582 | lr = 1.531 | loss = 0.41065 | error = 18.737133 %\n",
      "error rate on test set = 15.812506215387428 percent\n",
      " \n",
      "epoch = 1 .35 | time = 56.891099 | lr = 1.531 | loss = 0.33868 | error = 14.788499 %\n",
      "epoch = 1 .70 | time = 71.310744 | lr = 1.531 | loss = 0.33752 | error = 14.740453 %\n",
      "epoch = 2 .00 | time = 83.601598 | lr = 1.531 | loss = 0.33602 | error = 14.661459 %\n",
      "error rate on test set = 15.048536238220953 percent\n",
      " \n",
      "epoch = 2 .35 | time = 99.388721 | lr = 1.094 | loss = 0.29565 | error = 12.639036 %\n",
      "epoch = 2 .70 | time = 113.801382 | lr = 1.094 | loss = 0.29811 | error = 12.738203 %\n",
      "epoch = 3 .00 | time = 126.092387 | lr = 1.094 | loss = 0.29955 | error = 12.801536 %\n",
      "error rate on test set = 14.541446879269978 percent\n",
      " \n",
      "epoch = 3 .35 | time = 141.904376 | lr = 1.094 | loss = 0.2712 | error = 11.42294 %\n",
      "epoch = 3 .70 | time = 156.306595 | lr = 1.094 | loss = 0.27612 | error = 11.666637 %\n",
      "epoch = 4 .00 | time = 168.584087 | lr = 1.094 | loss = 0.27861 | error = 11.799156 %\n",
      "error rate on test set = 14.526100845710749 percent\n",
      " \n",
      "epoch = 4 .35 | time = 183.360166 | lr = 0.781 | loss = 0.226 | error = 9.249147 %\n",
      "epoch = 4 .70 | time = 196.567675 | lr = 0.781 | loss = 0.22377 | error = 9.137227 %\n",
      "epoch = 5 .00 | time = 207.882046 | lr = 0.781 | loss = 0.22242 | error = 9.07707 %\n",
      "error rate on test set = 14.353842041564228 percent\n",
      " \n",
      "epoch = 5 .35 | time = 222.498325 | lr = 0.781 | loss = 0.19525 | error = 7.824771 %\n",
      "epoch = 5 .70 | time = 235.841188 | lr = 0.781 | loss = 0.19796 | error = 7.97121 %\n",
      "epoch = 6 .00 | time = 247.133471 | lr = 0.781 | loss = 0.19947 | error = 8.051868 %\n",
      "error rate on test set = 14.601333723419089 percent\n",
      " \n",
      "epoch = 6 .35 | time = 261.652978 | lr = 0.558 | loss = 0.17153 | error = 6.73526 %\n",
      "epoch = 6 .70 | time = 274.933627 | lr = 0.558 | loss = 0.17401 | error = 6.847972 %\n",
      "epoch = 7 .00 | time = 286.283473 | lr = 0.558 | loss = 0.17557 | error = 6.951133 %\n",
      "error rate on test set = 14.929092986926587 percent\n",
      " \n",
      "epoch = 7 .35 | time = 300.731568 | lr = 0.558 | loss = 0.15319 | error = 5.948847 %\n",
      "epoch = 7 .70 | time = 313.982259 | lr = 0.558 | loss = 0.15667 | error = 6.124933 %\n",
      "epoch = 8 .00 | time = 325.504888 | lr = 0.558 | loss = 0.15951 | error = 6.268949 %\n",
      "error rate on test set = 15.158524401610512 percent\n",
      " \n"
     ]
    }
   ],
   "source": [
    "start=time.time()\n",
    "\n",
    "for epoch in range(8):\n",
    "    \n",
    "    running_loss=0\n",
    "    running_error=0\n",
    "    num_batches=0\n",
    "    \n",
    "    shuffled_indices=torch.randperm(1428612)\n",
    "\n",
    "    if epoch==2:\n",
    "            my_lr = my_lr / 1.4\n",
    "    if epoch==4:\n",
    "            my_lr = my_lr / 1.4\n",
    "            bs = bs*4\n",
    "    if epoch==6:\n",
    "            my_lr = my_lr / 1.4\n",
    "            \n",
    "    for count in range(0,1428612-bs,bs):\n",
    "      \n",
    "        # Set the gradients to zeros\n",
    "        optimizer = optim.SGD(net.parameters(), lr=my_lr)\n",
    "        optimizer.zero_grad()\n",
    "        \n",
    "        # get the minibatch\n",
    "        indices = shuffled_indices[count:count+bs]\n",
    "        minibatch_data, minibatch_label =  utils.make_minibatch(indices, train_data, train_label) \n",
    "            \n",
    "        # send to GPU    \n",
    "        minibatch_data = minibatch_data.to(device)\n",
    "        minibatch_label = minibatch_label.to(device)            \n",
    "\n",
    "        # forward the minibatch through the net        \n",
    "        scores = net( minibatch_data ) \n",
    "\n",
    "        # Compute the average of the losses of the data points in the minibatch\n",
    "        loss =  criterion( scores , minibatch_label) \n",
    "        \n",
    "        # backward pass to compute dL/dW, dL/dR etc...   \n",
    "        loss.backward()\n",
    "        \n",
    "        nn.utils.clip_grad_norm_(net.parameters(), 5)\n",
    "\n",
    "        # do one step of stochastic gradient descent\n",
    "        optimizer.step()\n",
    "        \n",
    "        # computing stats\n",
    "        num_batches+=1\n",
    "        with torch.no_grad():\n",
    "            running_loss += loss.item()\n",
    "            error = utils.get_error( scores , minibatch_label)\n",
    "            running_error += error.item()\n",
    "\n",
    "        if (count)/500000 == 1:\n",
    "            elapsed = (time.time()-start)/60\n",
    "            r_elapsed = round(elapsed,6)\n",
    "            r_lr = round(my_lr,3)\n",
    "            r_loss = round(running_loss/num_batches, 5)\n",
    "            r_error = round(100*running_error/num_batches,6)\n",
    "            print('epoch =',epoch, '.35', '| time =', r_elapsed, '| lr =', r_lr,'| loss =', r_loss , '| error =', r_error ,'%') \n",
    "        if (count)/1000000 == 1:\n",
    "            elapsed = (time.time()-start)/60\n",
    "            r_elapsed = round(elapsed,6)\n",
    "            r_lr = round(my_lr,3)\n",
    "            r_loss = round(running_loss/num_batches, 5)\n",
    "            r_error = round(100*running_error/num_batches,6)\n",
    "            print('epoch =',epoch, '.70', '| time =', r_elapsed, '| lr =', r_lr,'| loss =', r_loss , '| error =', r_error ,'%')\n",
    "            \n",
    "    # epoch finished:  compute and display stats for the full training set\n",
    "    elapsed = (time.time()-start)/60\n",
    "    r_elapsed = round(elapsed,6)\n",
    "    r_lr = round(my_lr,3)\n",
    "    r_loss = round(running_loss/num_batches, 5)\n",
    "    r_error = round(100*running_error/num_batches,6)\n",
    "    print('epoch =',epoch+1, '.00', '| time =', r_elapsed, '| lr =', r_lr, '| loss =', r_loss , '| error =', r_error ,'%')\n",
    "    \n",
    "    # compute error on the test set:\n",
    "    eval_on_test_set() \n",
    "    print(\" \")"
   ]
  },
  {
   "cell_type": "markdown",
   "metadata": {},
   "source": [
    "# ----------------------------------------------------------------------------------"
   ]
  },
  {
   "cell_type": "markdown",
   "metadata": {},
   "source": [
    "### Inference"
   ]
  },
  {
   "cell_type": "markdown",
   "metadata": {},
   "source": [
    "* Choose at random a tweet in the test set\n",
    "* Print the tweet in english \n",
    "* Print the label associated with this tweet\n",
    "* Feed the tweet to the network\n",
    "* provide a visual display of what the network predict (ex: 20% negative and 80% positive) "
   ]
  },
  {
   "cell_type": "code",
   "execution_count": 29,
   "metadata": {},
   "outputs": [
    {
     "name": "stdout",
     "output_type": "stream",
     "text": [
      "RAND_INT: 101734\n",
      "TWEET: everything was just great ... delicious , presentable & amp ; satisfying .\n",
      "LABEL: tensor(1)\n"
     ]
    },
    {
     "data": {
      "image/png": "[encoded data removed]",
      "text/plain": [
       "<Figure size 640x480 with 1 Axes>"
      ]
     },
     "metadata": {},
     "output_type": "display_data"
    }
   ],
   "source": [
    "from random import randint\n",
    "\n",
    "i = randint(0,150000)\n",
    "print('RAND_INT:',i)\n",
    "print('TWEET:', utils.tensor2text(test_data[i]) )\n",
    "print('LABEL:' , test_label[i] )\n",
    "\n",
    "tweet = test_data[i].to(device)\n",
    "label = test_label[i].to(device)\n",
    "\n",
    "p = net(tweet.unsqueeze(1))\n",
    "utils.show_prob(p)"
   ]
  },
  {
   "cell_type": "markdown",
   "metadata": {},
   "source": [
    "#### Write some ooriginal tweets\n",
    "* print the tweet\n",
    "* Use text2tensor() to print the associated LongTensor. Check everything is fine and you do not have to many \"unknown\" (coresponding to a 0). Recall that you must detach words and punctuation. For example \"I am really happy!\" should be written \"I am really happy !\".\n",
    "* Feed the tweet to the network\n",
    "* provide a visual display of what the network predict (ex: 20% negative and 80% positive) "
   ]
  },
  {
   "cell_type": "code",
   "execution_count": 31,
   "metadata": {},
   "outputs": [
    {
     "name": "stdout",
     "output_type": "stream",
     "text": [
      "TWEET: tensor([   7,  384,   35,   39, 2139,   34, 4500,    8,   11,    7, 1006,   34,\n",
      "          36,  121])\n"
     ]
    },
    {
     "data": {
      "image/png": "[encoded data removed]",
      "text/plain": [
       "<Figure size 640x480 with 1 Axes>"
      ]
     },
     "metadata": {},
     "output_type": "display_data"
    }
   ],
   "source": [
    "tweet = utils.text2tensor(\"The food at this restaurant was average , and the service was not great\")\n",
    "print('TWEET:', tweet )\n",
    "tweet = tweet.to(device)\n",
    "\n",
    "p = net(tweet.unsqueeze(1))\n",
    "utils.show_prob(p)    "
   ]
  },
  {
   "cell_type": "code",
   "execution_count": 32,
   "metadata": {},
   "outputs": [
    {
     "name": "stdout",
     "output_type": "stream",
     "text": [
      "TWEET: tensor([   2, 6654,  395,    2,  260,   10, 3005,   17,    7, 4412,    3])\n"
     ]
    },
    {
     "data": {
      "image/png": "[encoded data removed]",
      "text/plain": [
       "<Figure size 640x480 with 1 Axes>"
      ]
     },
     "metadata": {},
     "output_type": "display_data"
    }
   ],
   "source": [
    "tweet = utils.text2tensor(\"I cannot believe I left my wallet in the taxi !\")\n",
    "print('TWEET:', tweet )\n",
    "tweet = tweet.to(device)\n",
    "\n",
    "p = net(tweet.unsqueeze(1))\n",
    "utils.show_prob(p)    "
   ]
  },
  {
   "cell_type": "code",
   "execution_count": 33,
   "metadata": {},
   "outputs": [
    {
     "name": "stdout",
     "output_type": "stream",
     "text": [
      "TWEET: tensor([   2,   25,    7, 2120, 1179,   18,    7, 5050,   27,    2, 6654,  224,\n",
      "          12])\n"
     ]
    },
    {
     "data": {
      "image/png": "[encoded data removed]",
      "text/plain": [
       "<Figure size 640x480 with 1 Axes>"
      ]
     },
     "metadata": {},
     "output_type": "display_data"
    }
   ],
   "source": [
    "tweet = utils.text2tensor(\"I have the winning ticket for the lottery but I cannot find it\")\n",
    "print('TWEET:', tweet )\n",
    "tweet = tweet.to(device)\n",
    "\n",
    "p = net(tweet.unsqueeze(1))\n",
    "utils.show_prob(p)    "
   ]
  },
  {
   "cell_type": "code",
   "execution_count": 34,
   "metadata": {},
   "outputs": [
    {
     "name": "stdout",
     "output_type": "stream",
     "text": [
      "TWEET: tensor([   2,   30,  720,    9,   76, 1420,  899,    8,   85,  174, 8371,   32,\n",
      "           0,    4,    2,   70,  148,   65,    5,   39, 2139,    4])\n"
     ]
    },
    {
     "data": {
      "image/png": "[encoded data removed]",
      "text/plain": [
       "<Figure size 640x480 with 1 Axes>"
      ]
     },
     "metadata": {},
     "output_type": "display_data"
    }
   ],
   "source": [
    "tweet = utils.text2tensor(\"I just ate a really delicious pizza , they were generous with toppings . I will come back to this restaurant .\")\n",
    "print('TWEET:', tweet )\n",
    "tweet = tweet.to(device)\n",
    "\n",
    "p = net(tweet.unsqueeze(1))\n",
    "utils.show_prob(p)    "
   ]
  },
  {
   "cell_type": "markdown",
   "metadata": {},
   "source": [
    "### "
   ]
  }
 ],
 "metadata": {
  "kernelspec": {
   "display_name": "Python 3",
   "language": "python",
   "name": "python3"
  },
  "language_info": {
   "codemirror_mode": {
    "name": "ipython",
    "version": 3
   },
   "file_extension": ".py",
   "mimetype": "text/x-python",
   "name": "python",
   "nbconvert_exporter": "python",
   "pygments_lexer": "ipython3",
   "version": "3.7.4"
  }
 },
 "nbformat": 4,
 "nbformat_minor": 2
}
