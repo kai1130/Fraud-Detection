{
 "cells": [
  {
   "cell_type": "code",
   "execution_count": 1,
   "id": "65dab21d",
   "metadata": {},
   "outputs": [],
   "source": [
    "# custom libraries\n",
    "import c_utils\n",
    "import InstrumentDict\n",
    "import EntityExtract as ee\n",
    "import WordReader as wr\n",
    "import CodeGenerator as cg\n",
    "\n",
    "# imports\n",
    "import pandas as pd\n",
    "import time\n",
    "\n",
    "import json\n",
    "import os\n",
    "import ipfsApi\n",
    "\n",
    "from hedera import (\n",
    "    Hbar,\n",
    "    FileCreateTransaction,\n",
    "    ContractCreateTransaction,\n",
    "    ContractCallQuery,\n",
    "    ContractDeleteTransaction,\n",
    "    AccountBalanceQuery,\n",
    "    TokenCreateTransaction,\n",
    "    FileAppendTransaction,\n",
    "    ContractFunctionParameters,\n",
    "    TokenInfoQuery,\n",
    "    TokenUpdateTransaction,\n",
    "    ContractExecuteTransaction,\n",
    "    AccountId,\n",
    "    PrivateKey,\n",
    "    Client\n",
    ")"
   ]
  },
  {
   "cell_type": "code",
   "execution_count": 2,
   "id": "40cc0611",
   "metadata": {},
   "outputs": [],
   "source": [
    "from users import admin_id, admin_key, test_id, test_key"
   ]
  },
  {
   "cell_type": "code",
   "execution_count": 3,
   "id": "ed6fc623",
   "metadata": {},
   "outputs": [],
   "source": [
    "def swap_to_user(user):\n",
    "    if user == 'admin':\n",
    "        os.environ['OPERATOR_ID'] = admin_id\n",
    "        os.environ['OPERATOR_KEY'] = admin_key\n",
    "    elif user == 'test':\n",
    "        os.environ['OPERATOR_ID'] = test_id\n",
    "        os.environ['OPERATOR_KEY'] = test_key\n",
    "    else:\n",
    "        pass\n",
    "\n",
    "    OPERATOR_ID = AccountId.fromString(os.environ[\"OPERATOR_ID\"])\n",
    "    OPERATOR_KEY = PrivateKey.fromString(os.environ[\"OPERATOR_KEY\"])\n",
    "\n",
    "    client = Client.forTestnet()\n",
    "    client.setOperator(OPERATOR_ID, OPERATOR_KEY);\n",
    "    \n",
    "    return OPERATOR_ID, OPERATOR_KEY, client"
   ]
  },
  {
   "cell_type": "markdown",
   "id": "64fc1149",
   "metadata": {},
   "source": [
    "# Full Deployment Demo"
   ]
  },
  {
   "cell_type": "markdown",
   "id": "ef57f87a",
   "metadata": {},
   "source": [
    "### 1) Document Upload & Parameter Extraction"
   ]
  },
  {
   "cell_type": "code",
   "execution_count": 4,
   "id": "4bfaf4f9",
   "metadata": {},
   "outputs": [],
   "source": [
    "filepath = './files/word/Term Sheet - Demo 2.1.docx'\n",
    "params, links, instr = wr.parse_fields(filepath)"
   ]
  },
  {
   "cell_type": "code",
   "execution_count": 5,
   "id": "434060ba",
   "metadata": {},
   "outputs": [
    {
     "data": {
      "text/plain": [
       "{'tokenName': 'UniFi Token', 'tokenSymbol': 'UNI', 'multiple': 2}"
      ]
     },
     "execution_count": 5,
     "metadata": {},
     "output_type": "execute_result"
    }
   ],
   "source": [
    "params"
   ]
  },
  {
   "cell_type": "code",
   "execution_count": 6,
   "id": "5836e28f",
   "metadata": {},
   "outputs": [
    {
     "data": {
      "text/plain": [
       "{'tokenName': ('UniFi Token', 'UniFi Token'),\n",
       " 'tokenSymbol': ('UNI', 'UNI'),\n",
       " 'multiple': ('The principal amount deposited shall be doubled upon payout from the contract owner.',\n",
       "  2)}"
      ]
     },
     "execution_count": 6,
     "metadata": {},
     "output_type": "execute_result"
    }
   ],
   "source": [
    "links"
   ]
  },
  {
   "cell_type": "markdown",
   "id": "54338ea5",
   "metadata": {},
   "source": [
    "### 2) Publish Document to IPFS"
   ]
  },
  {
   "cell_type": "code",
   "execution_count": 7,
   "id": "117786cf",
   "metadata": {},
   "outputs": [],
   "source": [
    "parampath = r'./params.json'\n",
    "with open(parampath, 'w') as json_file:\n",
    "    json.dump(params, json_file)\n",
    "\n",
    "linkpath = r'./links.json'\n",
    "with open(linkpath, 'w') as json_file:\n",
    "    json.dump(links, json_file)"
   ]
  },
  {
   "cell_type": "code",
   "execution_count": 8,
   "id": "a9af638a",
   "metadata": {},
   "outputs": [],
   "source": [
    "api = ipfsApi.Client('127.0.0.1', 5001)"
   ]
  },
  {
   "cell_type": "code",
   "execution_count": 9,
   "id": "57414584",
   "metadata": {},
   "outputs": [
    {
     "data": {
      "text/plain": [
       "{'Name': 'files/word/Term Sheet - Demo 2.1.docx',\n",
       " 'Hash': 'QmPF5HyxE412164bsiK8YKJekP8apMZAvUDBedt8CPPNzV',\n",
       " 'Size': '17852'}"
      ]
     },
     "execution_count": 9,
     "metadata": {},
     "output_type": "execute_result"
    }
   ],
   "source": [
    "docHash_dict = api.add(filepath)\n",
    "docHash_dict[0]"
   ]
  },
  {
   "cell_type": "code",
   "execution_count": 10,
   "id": "306daacd",
   "metadata": {},
   "outputs": [
    {
     "data": {
      "text/plain": [
       "{'Name': 'params.json',\n",
       " 'Hash': 'QmU3ukKNNKV6kGoXAUubtW2Ps7Ua7qViT3qbqUGpjfAtui',\n",
       " 'Size': '73'}"
      ]
     },
     "execution_count": 10,
     "metadata": {},
     "output_type": "execute_result"
    }
   ],
   "source": [
    "paramHash_dict = api.add(parampath)\n",
    "paramHash_dict"
   ]
  },
  {
   "cell_type": "code",
   "execution_count": 11,
   "id": "870d43ed",
   "metadata": {},
   "outputs": [
    {
     "data": {
      "text/plain": [
       "{'Name': 'links.json',\n",
       " 'Hash': 'QmS7zTqKhDTuQMKdjuTHNgoMYaYmLUrT158p28syyu6GAV',\n",
       " 'Size': '192'}"
      ]
     },
     "execution_count": 11,
     "metadata": {},
     "output_type": "execute_result"
    }
   ],
   "source": [
    "linkHash_dict = api.add(linkpath)\n",
    "linkHash_dict"
   ]
  },
  {
   "cell_type": "code",
   "execution_count": 12,
   "id": "000db2d6",
   "metadata": {},
   "outputs": [],
   "source": [
    "docHash = docHash_dict[0]['Hash']\n",
    "paramHash = paramHash_dict['Hash']\n",
    "linkHash = linkHash_dict['Hash']"
   ]
  },
  {
   "cell_type": "markdown",
   "id": "8220d09f",
   "metadata": {},
   "source": [
    "### 3) Token Creation"
   ]
  },
  {
   "cell_type": "code",
   "execution_count": 13,
   "id": "d5d31518",
   "metadata": {},
   "outputs": [],
   "source": [
    "OPERATOR_ID, OPERATOR_KEY, client = swap_to_user('admin')"
   ]
  },
  {
   "cell_type": "markdown",
   "id": "00d7bbab",
   "metadata": {},
   "source": [
    "#### Create Token Using Parameters"
   ]
  },
  {
   "cell_type": "code",
   "execution_count": 14,
   "id": "e7277d75",
   "metadata": {},
   "outputs": [
    {
     "name": "stdout",
     "output_type": "stream",
     "text": [
      "New token ID is 0.0.34819504\n",
      "New Token Supply: 10000\n"
     ]
    }
   ],
   "source": [
    "treasuryId = OPERATOR_ID\n",
    "treasuryKey = OPERATOR_KEY\n",
    "\n",
    "tokenCreateTx = (TokenCreateTransaction().setTokenName(params['tokenName'])\n",
    "                                         .setTokenSymbol(params['tokenSymbol'])\n",
    "                                         .setDecimals(0)\n",
    "                                         .setInitialSupply(10000)\n",
    "                                         .setTreasuryAccountId(treasuryId)\n",
    "                                         .setAdminKey(treasuryKey)\n",
    "                                         .setSupplyKey(treasuryKey)\n",
    "                                         .freezeWith(client)\n",
    "                                         .sign(treasuryKey))\n",
    "\n",
    "tokenCreateSubmit = tokenCreateTx.execute(client);\n",
    "tokenCreateRx = tokenCreateSubmit.getReceipt(client);\n",
    "tokenId = tokenCreateRx.tokenId;\n",
    "tokenAddressSol = tokenId.toSolidityAddress();\n",
    "\n",
    "print(\"New token ID is \" + tokenId.toString())\n",
    "print(f\"New Token Supply: {TokenInfoQuery().setTokenId(tokenId).execute(client).totalSupply}\")"
   ]
  },
  {
   "cell_type": "markdown",
   "id": "9ed15261",
   "metadata": {},
   "source": [
    "## 4) Generate Ricardian Contract Template"
   ]
  },
  {
   "cell_type": "code",
   "execution_count": 15,
   "id": "7b6c75d7",
   "metadata": {},
   "outputs": [],
   "source": [
    "# contract = cg.RicardianContract(fields_demo, instr, filehash)\n",
    "# contract.generate('./contracts_RicardianContract.sol')"
   ]
  },
  {
   "cell_type": "markdown",
   "id": "c44074a1",
   "metadata": {},
   "source": [
    "solcjs --bin ./contracts/RicardianContract.sol"
   ]
  },
  {
   "cell_type": "code",
   "execution_count": 16,
   "id": "ed5993f5",
   "metadata": {},
   "outputs": [],
   "source": [
    "with open(r\"./contracts_RicardianContract_sol_RicardianContract.bin\", encoding='UTF8') as f:\n",
    "    contents = f.read()"
   ]
  },
  {
   "cell_type": "code",
   "execution_count": 17,
   "id": "0d730bb0",
   "metadata": {},
   "outputs": [
    {
     "name": "stdout",
     "output_type": "stream",
     "text": [
      "Smart Contract Bytecode File ID: 0.0.34819505\n",
      "Content added: SUCCESS\n"
     ]
    }
   ],
   "source": [
    "fileCreateTx = FileCreateTransaction().setKeys(OPERATOR_KEY)\n",
    "fileSubmit = fileCreateTx.execute(client)\n",
    "fileCreateRx = fileSubmit.getReceipt(client)\n",
    "bytecodeFileId = fileCreateRx.fileId\n",
    "print(f'Smart Contract Bytecode File ID: {bytecodeFileId.toString()}')\n",
    "\n",
    "fileAppendTx = (FileAppendTransaction().setFileId(bytecodeFileId)\n",
    "                                       .setContents(contents)\n",
    "                                       .setMaxChunks(10)\n",
    "                                       .setMaxTransactionFee(Hbar(2)))\n",
    "fileAppendSubmit = fileAppendTx.execute(client)\n",
    "fileAppendRx = fileAppendSubmit.getReceipt(client)\n",
    "print(f'Content added: {fileAppendRx.status.toString()}')"
   ]
  },
  {
   "cell_type": "markdown",
   "id": "8290c4cf",
   "metadata": {},
   "source": [
    "### 5) Instantiate Ricardian Contract on Hedera"
   ]
  },
  {
   "cell_type": "code",
   "execution_count": 18,
   "id": "82ee95e4",
   "metadata": {},
   "outputs": [
    {
     "name": "stdout",
     "output_type": "stream",
     "text": [
      "Smart Contract ID: 0.0.34819506\n",
      "Smart Contract ID in Solidity Format: 0000000000000000000000000000000002134db2\n"
     ]
    }
   ],
   "source": [
    "contractInstantiateTx = (ContractCreateTransaction()\n",
    "                         .setBytecodeFileId(bytecodeFileId)\n",
    "                         .setGas(3000000)\n",
    "                         .setConstructorParameters(ContractFunctionParameters()\n",
    "                                                   .addAddress(tokenAddressSol)\n",
    "                                                   .addInt64(params['multiple'])\n",
    "                                                   .addString(docHash)\n",
    "                                                   .addString(paramHash)\n",
    "                                                   .addString(linkHash)\n",
    "                                                  ))\n",
    "contractInstantiateSubmit = contractInstantiateTx.execute(client)\n",
    "contractInstantiateRx = contractInstantiateSubmit.getReceipt(client)\n",
    "contractId = contractInstantiateRx.contractId\n",
    "contractAddress = contractId.toSolidityAddress()\n",
    "\n",
    "print(f'Smart Contract ID: {contractId.toString()}')\n",
    "print(f'Smart Contract ID in Solidity Format: {contractAddress}')"
   ]
  },
  {
   "cell_type": "markdown",
   "id": "84d9e6a3",
   "metadata": {},
   "source": [
    "#### Set Ricardian Contract as Supply Key for Token"
   ]
  },
  {
   "cell_type": "code",
   "execution_count": 19,
   "id": "8cfd3ed4",
   "metadata": {
    "scrolled": true
   },
   "outputs": [
    {
     "name": "stdout",
     "output_type": "stream",
     "text": [
      "Original token supply key: 302a300506032b657003210039658e94fdf535fdd0cfef44915376bd2ddedf37c910db55aa6b775803826d28\n",
      "New token supply key: 0.0.34819506\n"
     ]
    }
   ],
   "source": [
    "tokenInfo2p1 = TokenInfoQuery().setTokenId(tokenId).execute(client)\n",
    "print(f'Original token supply key: {tokenInfo2p1.supplyKey.toString()}')\n",
    "\n",
    "tokenUpdateTx = (TokenUpdateTransaction()\n",
    "                       .setTokenId(tokenId)\n",
    "                       .setSupplyKey(contractId))\n",
    "\n",
    "tokenUpdateSubmit = tokenUpdateTx.execute(client)\n",
    "tokenUpdateRx = tokenUpdateSubmit.getReceipt(client)\n",
    "\n",
    "tokenInfo2p2 = TokenInfoQuery().setTokenId(tokenId).execute(client)\n",
    "print(f'New token supply key: {tokenInfo2p2.supplyKey.toString()}')"
   ]
  },
  {
   "cell_type": "markdown",
   "id": "4b656c51",
   "metadata": {},
   "source": [
    "## 6) Ready to Use!\n",
    "#### Query: Get Token Address"
   ]
  },
  {
   "cell_type": "code",
   "execution_count": 20,
   "id": "4735962f",
   "metadata": {
    "scrolled": true
   },
   "outputs": [
    {
     "name": "stdout",
     "output_type": "stream",
     "text": [
      "Token Address:  0000000000000000000000000000000002134db0\n"
     ]
    }
   ],
   "source": [
    "query_result = (ContractCallQuery()\n",
    "                .setGas(300000)\n",
    "                .setContractId(contractId)\n",
    "                .setFunction(\"getAddress\")\n",
    "                .setQueryPayment(Hbar(1))\n",
    "                .execute(client))\n",
    "message = query_result.getAddress(0)\n",
    "print(\"Token Address: \", message)"
   ]
  },
  {
   "cell_type": "markdown",
   "id": "e423841e",
   "metadata": {},
   "source": [
    "#### Query: Treasury Token Balance"
   ]
  },
  {
   "cell_type": "code",
   "execution_count": 21,
   "id": "7314b9d3",
   "metadata": {
    "scrolled": true
   },
   "outputs": [
    {
     "name": "stdout",
     "output_type": "stream",
     "text": [
      "Treasury Balance: 10000\n"
     ]
    }
   ],
   "source": [
    "tB_str = c_utils.java_to_json(AccountBalanceQuery().setAccountId(treasuryId).execute(client).tokens.toString())\n",
    "tB = json.loads(tB_str)[tokenId.toString()]\n",
    "\n",
    "print(f'Treasury Balance: {tB}')"
   ]
  },
  {
   "cell_type": "markdown",
   "id": "13c8414c",
   "metadata": {},
   "source": [
    "## 7) Configuring Test Account for Eric"
   ]
  },
  {
   "cell_type": "code",
   "execution_count": 22,
   "id": "3bb35a05",
   "metadata": {},
   "outputs": [],
   "source": [
    "testId = AccountId.fromString(test_id)\n",
    "testKey = PrivateKey.fromString(test_key)"
   ]
  },
  {
   "cell_type": "markdown",
   "id": "25623030",
   "metadata": {},
   "source": [
    "#### Associate Token with Eric's Account"
   ]
  },
  {
   "cell_type": "code",
   "execution_count": 23,
   "id": "bb651e6f",
   "metadata": {},
   "outputs": [
    {
     "name": "stdout",
     "output_type": "stream",
     "text": [
      "Token association with Test Account: SUCCESS\n"
     ]
    }
   ],
   "source": [
    "contractExecTx1 = (ContractExecuteTransaction()\n",
    "                   .setContractId(contractId)\n",
    "                   .setGas(3000000)\n",
    "                   .setFunction(\"tokenAssociate\", ContractFunctionParameters().addAddress(testId.toSolidityAddress()))\n",
    "                   .setMaxTransactionFee(Hbar(2))\n",
    "                   .freezeWith(client))\n",
    "contractExecSign1 = contractExecTx1.sign(testKey);\n",
    "contractExecSubmit1 = contractExecSign1.execute(client);\n",
    "contractExecRx1 = contractExecSubmit1.getReceipt(client);\n",
    "\n",
    "print(f'Token association with Test Account: {contractExecRx1.status.toString()}')"
   ]
  },
  {
   "cell_type": "markdown",
   "id": "3302d4bb",
   "metadata": {},
   "source": [
    "#### Gift 100 tokens to the Eric"
   ]
  },
  {
   "cell_type": "code",
   "execution_count": 24,
   "id": "26636490",
   "metadata": {},
   "outputs": [
    {
     "name": "stdout",
     "output_type": "stream",
     "text": [
      "Token Transfer from Treasury to Test Account: SUCCESS\n",
      "Treasury Balance: 9900\n",
      "Eric's Balance: 100\n"
     ]
    }
   ],
   "source": [
    "contractExecTx2 = (ContractExecuteTransaction()\n",
    "                   .setContractId(contractId)\n",
    "                   .setGas(3000000)\n",
    "                   .setFunction(\"gift\", ContractFunctionParameters()\n",
    "                                .addAddress(testId.toSolidityAddress())\n",
    "                                .addInt64(100))\n",
    "                   .setMaxTransactionFee(Hbar(5))\n",
    "                   .freezeWith(client))\n",
    "contractExecSign2 = contractExecTx2.sign(treasuryKey)\n",
    "contractExecSubmit2 = contractExecSign2.execute(client)\n",
    "contractExecRx2 = contractExecSubmit2.getReceipt(client)\n",
    "\n",
    "print(f'Token Transfer from Treasury to Test Account: {contractExecRx2.status.toString()}')\n",
    "\n",
    "tB_str = c_utils.java_to_json(AccountBalanceQuery().setAccountId(treasuryId).execute(client).tokens.toString())\n",
    "tB = json.loads(tB_str)[tokenId.toString()]\n",
    "\n",
    "aB_str = c_utils.java_to_json(AccountBalanceQuery().setAccountId(testId).execute(client).tokens.toString())\n",
    "aB = json.loads(aB_str)[tokenId.toString()]\n",
    "\n",
    "print(f'Treasury Balance: {tB}')\n",
    "print(f'Eric\\'s Balance: {aB}')"
   ]
  },
  {
   "cell_type": "markdown",
   "id": "f7896c3f",
   "metadata": {},
   "source": [
    "## 8) Fuctionality Demo\n",
    "#### Swap to Eric's Account"
   ]
  },
  {
   "cell_type": "code",
   "execution_count": 25,
   "id": "79b2a726",
   "metadata": {},
   "outputs": [],
   "source": [
    "OPERATOR_ID, OPERATOR_KEY, client = swap_to_user('test')"
   ]
  },
  {
   "cell_type": "markdown",
   "id": "fbe33c68",
   "metadata": {},
   "source": [
    "#### Get Document Hash"
   ]
  },
  {
   "cell_type": "code",
   "execution_count": 26,
   "id": "e6a8c26c",
   "metadata": {},
   "outputs": [
    {
     "name": "stdout",
     "output_type": "stream",
     "text": [
      "Document Hash:  QmPF5HyxE412164bsiK8YKJekP8apMZAvUDBedt8CPPNzV\n"
     ]
    }
   ],
   "source": [
    "query_result = (ContractCallQuery()\n",
    "                .setGas(300000)\n",
    "                .setContractId(contractId)\n",
    "                .setFunction(\"getDocHash\")\n",
    "                .setQueryPayment(Hbar(1))\n",
    "                .execute(client))\n",
    "\n",
    "message = query_result.getString(0)\n",
    "print(\"Document Hash: \", message)"
   ]
  },
  {
   "cell_type": "markdown",
   "id": "3bad57b6",
   "metadata": {},
   "source": [
    "#### Get Parameter Hash"
   ]
  },
  {
   "cell_type": "code",
   "execution_count": 27,
   "id": "ffb58796",
   "metadata": {},
   "outputs": [
    {
     "name": "stdout",
     "output_type": "stream",
     "text": [
      "Param Hash:  QmU3ukKNNKV6kGoXAUubtW2Ps7Ua7qViT3qbqUGpjfAtui\n"
     ]
    }
   ],
   "source": [
    "query_result = (ContractCallQuery()\n",
    "                .setGas(300000)\n",
    "                .setContractId(contractId)\n",
    "                .setFunction(\"getParamHash\")\n",
    "                .setQueryPayment(Hbar(1))\n",
    "                .execute(client))\n",
    "\n",
    "message = query_result.getString(0)\n",
    "print(\"Param Hash: \", message)"
   ]
  },
  {
   "cell_type": "markdown",
   "id": "242b42f7",
   "metadata": {},
   "source": [
    "#### Get Link Hash"
   ]
  },
  {
   "cell_type": "code",
   "execution_count": 28,
   "id": "5681b836",
   "metadata": {},
   "outputs": [
    {
     "name": "stdout",
     "output_type": "stream",
     "text": [
      "Link Hash:  QmS7zTqKhDTuQMKdjuTHNgoMYaYmLUrT158p28syyu6GAV\n"
     ]
    }
   ],
   "source": [
    "query_result = (ContractCallQuery()\n",
    "                .setGas(300000)\n",
    "                .setContractId(contractId)\n",
    "                .setFunction(\"getLinkHash\")\n",
    "                .setQueryPayment(Hbar(1))\n",
    "                .execute(client))\n",
    "\n",
    "message = query_result.getString(0)\n",
    "print(\"Link Hash: \", message)"
   ]
  },
  {
   "cell_type": "markdown",
   "id": "1fa23528",
   "metadata": {},
   "source": [
    "#### Deposit 100 Tokens into the Instrument"
   ]
  },
  {
   "cell_type": "code",
   "execution_count": 29,
   "id": "acbf4ecb",
   "metadata": {
    "scrolled": false
   },
   "outputs": [
    {
     "name": "stdout",
     "output_type": "stream",
     "text": [
      "Deposit Tokens from Test Account to Treasury: SUCCESS\n",
      "Deposit Amount: 100\n",
      "====================\n",
      "Treasury Balance: 10000\n",
      "Eric's Balance:0\n"
     ]
    }
   ],
   "source": [
    "deposit_amt = 100\n",
    "\n",
    "contractExecTx2 = (ContractExecuteTransaction()\n",
    "                   .setContractId(contractId)\n",
    "                   .setGas(3000000)\n",
    "                   .setFunction(\"deposit\", ContractFunctionParameters()\n",
    "                                .addAddress(testId.toSolidityAddress())\n",
    "                                .addInt64(deposit_amt))\n",
    "                   .setMaxTransactionFee(Hbar(5))\n",
    "                   .freezeWith(client))\n",
    "contractExecSign2 = contractExecTx2.sign(testKey)\n",
    "contractExecSubmit2 = contractExecSign2.execute(client)\n",
    "contractExecRx2 = contractExecSubmit2.getReceipt(client)\n",
    "\n",
    "print(f'Deposit Tokens from Test Account to Treasury: {contractExecRx2.status.toString()}')\n",
    "print(f'Deposit Amount: {deposit_amt}')\n",
    "\n",
    "tB_str = c_utils.java_to_json(AccountBalanceQuery().setAccountId(treasuryId).execute(client).tokens.toString())\n",
    "tB = json.loads(tB_str)[tokenId.toString()]\n",
    "\n",
    "aB_str = c_utils.java_to_json(AccountBalanceQuery().setAccountId(testId).execute(client).tokens.toString())\n",
    "aB = json.loads(aB_str)[tokenId.toString()]\n",
    "\n",
    "print('='*20)\n",
    "print(f'Treasury Balance: {tB}')\n",
    "print(f'Eric\\'s Balance:{aB}')"
   ]
  },
  {
   "cell_type": "markdown",
   "id": "dc1c370f",
   "metadata": {},
   "source": [
    "#### Query: Balance deposited into the instrument"
   ]
  },
  {
   "cell_type": "code",
   "execution_count": 30,
   "id": "d0cb7852",
   "metadata": {},
   "outputs": [
    {
     "name": "stdout",
     "output_type": "stream",
     "text": [
      "Eric's Deposited Amount:  100\n"
     ]
    }
   ],
   "source": [
    "query_result = (ContractCallQuery()\n",
    "                .setGas(300000)\n",
    "                .setContractId(contractId)\n",
    "                .setFunction(\"getBalance\")\n",
    "                .setQueryPayment(Hbar(1))\n",
    "                .execute(client))\n",
    "\n",
    "message = query_result.getInt64(0)\n",
    "print(\"Eric\\'s Deposited Amount: \", message)"
   ]
  },
  {
   "cell_type": "markdown",
   "id": "befb0f09",
   "metadata": {},
   "source": [
    "#### Swap to Admin Account"
   ]
  },
  {
   "cell_type": "code",
   "execution_count": 31,
   "id": "cde426fd",
   "metadata": {},
   "outputs": [],
   "source": [
    "OPERATOR_ID, OPERATOR_KEY, client = swap_to_user('admin')"
   ]
  },
  {
   "cell_type": "markdown",
   "id": "72535567",
   "metadata": {},
   "source": [
    "#### Admin Payout to Eric"
   ]
  },
  {
   "cell_type": "code",
   "execution_count": 32,
   "id": "8b914f00",
   "metadata": {},
   "outputs": [
    {
     "name": "stdout",
     "output_type": "stream",
     "text": [
      "Token Transfer from Treasury to Test Account: SUCCESS\n",
      "====================\n",
      "Treasury Balance: 9800\n",
      "Eric's Balance: 200\n"
     ]
    }
   ],
   "source": [
    "contractExecTx2 = (ContractExecuteTransaction()\n",
    "                   .setContractId(contractId)\n",
    "                   .setGas(3000000)\n",
    "                   .setFunction(\"payout\", ContractFunctionParameters()\n",
    "                                .addAddress(testId.toSolidityAddress()))\n",
    "                   .setMaxTransactionFee(Hbar(5))\n",
    "                   .freezeWith(client))\n",
    "contractExecSign2 = contractExecTx2.sign(testKey)\n",
    "contractExecSubmit2 = contractExecTx2.execute(client)\n",
    "contractExecRx2 = contractExecSubmit2.getReceipt(client)\n",
    "\n",
    "print(f'Token Transfer from Treasury to Test Account: {contractExecRx2.status.toString()}')\n",
    "\n",
    "tB_str = c_utils.java_to_json(AccountBalanceQuery().setAccountId(treasuryId).execute(client).tokens.toString())\n",
    "tB = json.loads(tB_str)[tokenId.toString()]\n",
    "\n",
    "aB_str = c_utils.java_to_json(AccountBalanceQuery().setAccountId(testId).execute(client).tokens.toString())\n",
    "aB = json.loads(aB_str)[tokenId.toString()]\n",
    "\n",
    "print('='*20)\n",
    "print(f'Treasury Balance: {tB}')\n",
    "print(f'Eric\\'s Balance: {aB}')"
   ]
  },
  {
   "cell_type": "code",
   "execution_count": null,
   "id": "36bed64c",
   "metadata": {},
   "outputs": [],
   "source": []
  }
 ],
 "metadata": {
  "kernelspec": {
   "display_name": "Python 3 (ipykernel)",
   "language": "python",
   "name": "python3"
  },
  "language_info": {
   "codemirror_mode": {
    "name": "ipython",
    "version": 3
   },
   "file_extension": ".py",
   "mimetype": "text/x-python",
   "name": "python",
   "nbconvert_exporter": "python",
   "pygments_lexer": "ipython3",
   "version": "3.9.7"
  }
 },
 "nbformat": 4,
 "nbformat_minor": 5
}
