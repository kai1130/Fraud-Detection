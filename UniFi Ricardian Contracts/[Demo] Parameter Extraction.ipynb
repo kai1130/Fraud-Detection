{
 "cells": [
  {
   "cell_type": "code",
   "execution_count": 1,
   "id": "a5646a0b",
   "metadata": {},
   "outputs": [],
   "source": [
    "import pandas as pd\n",
    "import c_utils\n",
    "import InstrumentDict\n",
    "import EntityExtract as ee\n",
    "import WordReader as wr"
   ]
  },
  {
   "cell_type": "code",
   "execution_count": 2,
   "id": "b181b862",
   "metadata": {},
   "outputs": [],
   "source": [
    "class color:\n",
    "   BOLD = '\\033[1m'\n",
    "   END = '\\033[0m'"
   ]
  },
  {
   "cell_type": "code",
   "execution_count": 3,
   "id": "1c8e6ebd",
   "metadata": {},
   "outputs": [],
   "source": [
    "instrument_test = ['Fixed-yield debt instrument',\n",
    "                   'Mortgage debt instrument',\n",
    "                   'Money Multiplier']\n",
    "nominal_test = ['USD1', 'South Korean Won 50','GBP20', '1 Swedish Krona', '15 Thai Baht']\n",
    "\n",
    "date_test = [('4 months from the Issue date','Issue date is 12 March 2023'),\n",
    "             ('1 year from Issue','Issued on 15 September 2020'),\n",
    "             ('December 13, 2023','Issue date is June 13 2022')]\n",
    "\n",
    "interest_test = ['21.35% yearly accruing quarterly interest shall be settled by the issue of further UniFi Tokens which shall be fungible and consolidated with the original UniFi Tokens. If the amount of interest results in a fraction of a UniFi Token being issued, the number of UniFi Tokens to be issued shall be rounded up to the nearest whole number.',\n",
    "                 '5.55% annually accruing monthly interest which shall be fungible and consolidated with the original Kai tokens.']\n",
    "\n",
    "multiplier_test = ['The principal amount deposited shall be tripled upon payout from the contract owner.',\n",
    "                   'The principle amount will be doubled upon payout.',\n",
    "                   'The amount will be octupled immediately.']"
   ]
  },
  {
   "cell_type": "markdown",
   "id": "8a10d355",
   "metadata": {},
   "source": [
    "# Parameter Extraction Demo\n",
    "##### - Deep Learning\n",
    "##### - Natural Language Processing\n",
    "##### - Rule-based algorithms"
   ]
  },
  {
   "cell_type": "markdown",
   "id": "0d5ce857",
   "metadata": {},
   "source": [
    "### Field: Currency\n",
    "- Ability to handle multiple data formats"
   ]
  },
  {
   "cell_type": "code",
   "execution_count": 5,
   "id": "31855d8f",
   "metadata": {},
   "outputs": [
    {
     "name": "stdout",
     "output_type": "stream",
     "text": [
      "==========\n",
      "\u001b[1minput:\u001b[0m USD1\n",
      "\u001b[1moutput:\u001b[0m {'currency': 'USD', 'amt': '1'}\n",
      "==========\n",
      "\u001b[1minput:\u001b[0m South Korean Won 50\n",
      "\u001b[1moutput:\u001b[0m {'currency': 'KRW', 'amt': '50'}\n",
      "==========\n",
      "\u001b[1minput:\u001b[0m GBP20\n",
      "\u001b[1moutput:\u001b[0m {'currency': 'GBP', 'amt': '20'}\n",
      "==========\n",
      "\u001b[1minput:\u001b[0m 1 Swedish Krona\n",
      "\u001b[1moutput:\u001b[0m {'currency': 'SEK', 'amt': '1'}\n",
      "==========\n",
      "\u001b[1minput:\u001b[0m 15 Thai Baht\n",
      "\u001b[1moutput:\u001b[0m {'currency': 'THB', 'amt': '15'}\n"
     ]
    }
   ],
   "source": [
    "for i in nominal_test:\n",
    "    res = ee.extract_nominal(i)\n",
    "    print('='*10)\n",
    "    print(f'{color.BOLD}input:{color.END} {i}')\n",
    "    print(f'{color.BOLD}output:{color.END} {res[0]}')"
   ]
  },
  {
   "cell_type": "markdown",
   "id": "b8b98e29",
   "metadata": {},
   "source": [
    "### Field: Date\n",
    "\n",
    "- Logic to handle relative and absolute dates"
   ]
  },
  {
   "cell_type": "code",
   "execution_count": 6,
   "id": "68064897",
   "metadata": {
    "scrolled": true
   },
   "outputs": [
    {
     "name": "stdout",
     "output_type": "stream",
     "text": [
      "==========\n",
      "\u001b[1minput:\u001b[0m ('4 months from the Issue date', 'Issue date is 12 March 2023')\n",
      "\u001b[1moutput:\u001b[0m {'start_date': datetime.date(2023, 3, 12), 'end_date': datetime.date(2023, 7, 12), 'time_diff': relativedelta(months=+4)}\n",
      "==========\n",
      "\u001b[1minput:\u001b[0m ('1 year from Issue', 'Issued on 15 September 2020')\n",
      "\u001b[1moutput:\u001b[0m {'start_date': datetime.date(2020, 9, 15), 'end_date': datetime.date(2021, 9, 15), 'time_diff': relativedelta(years=+1)}\n",
      "==========\n",
      "\u001b[1minput:\u001b[0m ('December 13, 2023', 'Issue date is June 13 2022')\n",
      "\u001b[1moutput:\u001b[0m {'start_date': datetime.date(2022, 6, 13), 'end_date': datetime.date(2023, 12, 13), 'time_diff': relativedelta(years=+1, months=+6)}\n"
     ]
    }
   ],
   "source": [
    "for i in date_test:\n",
    "    end, start = i\n",
    "    res = ee.extract_date(end, start)\n",
    "    print('='*10)\n",
    "    print(f'{color.BOLD}input:{color.END} {i}')\n",
    "    print(f'{color.BOLD}output:{color.END} {res[0]}')"
   ]
  },
  {
   "cell_type": "markdown",
   "id": "42148601",
   "metadata": {},
   "source": [
    "### Field: Interest Rate\n",
    "- Extract multiple pieces of information from complex and unstructured text data "
   ]
  },
  {
   "cell_type": "code",
   "execution_count": 7,
   "id": "3e0b724d",
   "metadata": {},
   "outputs": [
    {
     "name": "stdout",
     "output_type": "stream",
     "text": [
      "==========\n",
      "\u001b[1minput:\u001b[0m 21.35% yearly accruing quarterly interest shall be settled by the issue of further UniFi Tokens which shall be fungible and consolidated with the original UniFi Tokens. If the amount of interest results in a fraction of a UniFi Token being issued, the number of UniFi Tokens to be issued shall be rounded up to the nearest whole number.\n",
      "\u001b[1moutput:\u001b[0m {'rate': '21.35%', 'interval': 'quarterly', 'rounded': 'rounded'}\n",
      "==========\n",
      "\u001b[1minput:\u001b[0m 5.55% annually accruing monthly interest which shall be fungible and consolidated with the original Kai tokens.\n",
      "\u001b[1moutput:\u001b[0m {'rate': '5.55%', 'interval': 'monthly', 'rounded': 'not rounded'}\n"
     ]
    }
   ],
   "source": [
    "for i in interest_test:\n",
    "    res = ee.extract_interest(i)\n",
    "    print('='*10)\n",
    "    print(f'{color.BOLD}input:{color.END} {i}')\n",
    "    print(f'{color.BOLD}output:{color.END} {res[0]}')"
   ]
  },
  {
   "cell_type": "markdown",
   "id": "c0412cd9",
   "metadata": {},
   "source": [
    "### Field: Multiplier"
   ]
  },
  {
   "cell_type": "code",
   "execution_count": 8,
   "id": "5c78797e",
   "metadata": {},
   "outputs": [
    {
     "name": "stdout",
     "output_type": "stream",
     "text": [
      "==========\n",
      "\u001b[1minput:\u001b[0m The principal amount deposited shall be tripled upon payout from the contract owner.\n",
      "\u001b[1moutput:\u001b[0m {'multiple': 3}\n",
      "==========\n",
      "\u001b[1minput:\u001b[0m The principle amount will be doubled upon payout.\n",
      "\u001b[1moutput:\u001b[0m {'multiple': 2}\n",
      "==========\n",
      "\u001b[1minput:\u001b[0m The amount will be octupled immediately.\n",
      "\u001b[1moutput:\u001b[0m {'multiple': 8}\n"
     ]
    }
   ],
   "source": [
    "for i in multiplier_test:\n",
    "    res = ee.extract_multiple(i)\n",
    "    print('='*10)\n",
    "    print(f'{color.BOLD}input:{color.END} {i}')\n",
    "    print(f'{color.BOLD}output:{color.END} {res[0]}')"
   ]
  },
  {
   "cell_type": "markdown",
   "id": "ce98bc10",
   "metadata": {},
   "source": [
    "### Field: Financial Instrument"
   ]
  },
  {
   "cell_type": "code",
   "execution_count": 4,
   "id": "ca98c67d",
   "metadata": {
    "scrolled": false
   },
   "outputs": [
    {
     "name": "stdout",
     "output_type": "stream",
     "text": [
      "==========\n",
      "\u001b[1minput:\u001b[0m Fixed-yield debt instrument\n",
      "\u001b[1moutput:\u001b[0m debt instrument, fixed\n",
      "==========\n",
      "\u001b[1minput:\u001b[0m Mortgage debt instrument\n",
      "\u001b[1moutput:\u001b[0m debt instrument, mortgage\n",
      "==========\n",
      "\u001b[1minput:\u001b[0m Money Multiplier\n",
      "\u001b[1moutput:\u001b[0m multiplier, simple\n"
     ]
    }
   ],
   "source": [
    "for i in instrument_test:\n",
    "    res = ee.extract_instrument(i)\n",
    "    print('='*10)\n",
    "    print(f'{color.BOLD}input:{color.END} {i}')\n",
    "    print(f'{color.BOLD}output:{color.END} {res}')"
   ]
  }
 ],
 "metadata": {
  "kernelspec": {
   "display_name": "Python 3 (ipykernel)",
   "language": "python",
   "name": "python3"
  },
  "language_info": {
   "codemirror_mode": {
    "name": "ipython",
    "version": 3
   },
   "file_extension": ".py",
   "mimetype": "text/x-python",
   "name": "python",
   "nbconvert_exporter": "python",
   "pygments_lexer": "ipython3",
   "version": "3.9.7"
  }
 },
 "nbformat": 4,
 "nbformat_minor": 5
}
